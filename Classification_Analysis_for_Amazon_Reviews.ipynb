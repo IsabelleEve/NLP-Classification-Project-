{
  "nbformat": 4,
  "nbformat_minor": 0,
  "metadata": {
    "colab": {
      "provenance": [],
      "collapsed_sections": [],
      "authorship_tag": "ABX9TyOfGL95CqBo56RK/Z4ZcYeL",
      "include_colab_link": true
    },
    "kernelspec": {
      "name": "python3",
      "display_name": "Python 3"
    },
    "language_info": {
      "name": "python"
    }
  },
  "cells": [
    {
      "cell_type": "markdown",
      "metadata": {
        "id": "view-in-github",
        "colab_type": "text"
      },
      "source": [
        "<a href=\"https://colab.research.google.com/github/IsabelleEve/NLP-Classification-Project-/blob/Baseline-Starting-Classification-Code/Classification_Analysis_for_Amazon_Reviews.ipynb\" target=\"_parent\"><img src=\"https://colab.research.google.com/assets/colab-badge.svg\" alt=\"Open In Colab\"/></a>"
      ]
    },
    {
      "cell_type": "markdown",
      "source": [
        "# Classification Analysis for Amazon Reviews\n",
        "https://www.kaggle.com/datasets/datafiniti/consumer-reviews-of-amazon-products"
      ],
      "metadata": {
        "id": "1Or80OZQ0kcr"
      }
    },
    {
      "cell_type": "code",
      "source": [
        "# Import libraries\n",
        "import tensorflow as tf\n",
        "import os\n",
        "!pip install opendatasets\n",
        "import opendatasets as od\n",
        "import pandas as pd\n",
        "from pathlib import Path\n",
        "import numpy as np\n",
        "import matplotlib.pyplot as plt"
      ],
      "metadata": {
        "id": "Kve1W5B-0pdr",
        "colab": {
          "base_uri": "https://localhost:8080/"
        },
        "outputId": "38cb2904-366a-449a-8491-b86761ff11bc"
      },
      "execution_count": 97,
      "outputs": [
        {
          "output_type": "stream",
          "name": "stdout",
          "text": [
            "Looking in indexes: https://pypi.org/simple, https://us-python.pkg.dev/colab-wheels/public/simple/\n",
            "Requirement already satisfied: opendatasets in /usr/local/lib/python3.7/dist-packages (0.1.22)\n",
            "Requirement already satisfied: click in /usr/local/lib/python3.7/dist-packages (from opendatasets) (7.1.2)\n",
            "Requirement already satisfied: kaggle in /usr/local/lib/python3.7/dist-packages (from opendatasets) (1.5.12)\n",
            "Requirement already satisfied: tqdm in /usr/local/lib/python3.7/dist-packages (from opendatasets) (4.64.1)\n",
            "Requirement already satisfied: six>=1.10 in /usr/local/lib/python3.7/dist-packages (from kaggle->opendatasets) (1.15.0)\n",
            "Requirement already satisfied: python-dateutil in /usr/local/lib/python3.7/dist-packages (from kaggle->opendatasets) (2.8.2)\n",
            "Requirement already satisfied: python-slugify in /usr/local/lib/python3.7/dist-packages (from kaggle->opendatasets) (6.1.2)\n",
            "Requirement already satisfied: urllib3 in /usr/local/lib/python3.7/dist-packages (from kaggle->opendatasets) (1.24.3)\n",
            "Requirement already satisfied: certifi in /usr/local/lib/python3.7/dist-packages (from kaggle->opendatasets) (2022.6.15)\n",
            "Requirement already satisfied: requests in /usr/local/lib/python3.7/dist-packages (from kaggle->opendatasets) (2.23.0)\n",
            "Requirement already satisfied: text-unidecode>=1.3 in /usr/local/lib/python3.7/dist-packages (from python-slugify->kaggle->opendatasets) (1.3)\n",
            "Requirement already satisfied: idna<3,>=2.5 in /usr/local/lib/python3.7/dist-packages (from requests->kaggle->opendatasets) (2.10)\n",
            "Requirement already satisfied: chardet<4,>=3.0.2 in /usr/local/lib/python3.7/dist-packages (from requests->kaggle->opendatasets) (3.0.4)\n"
          ]
        }
      ]
    },
    {
      "cell_type": "code",
      "source": [
        "od.download(\"https://www.kaggle.com/datasets/datafiniti/consumer-reviews-of-amazon-products?resource=download\")\n",
        "#key f5f7974f13551dff1ba75f9e8e7aa0ba"
      ],
      "metadata": {
        "colab": {
          "base_uri": "https://localhost:8080/"
        },
        "id": "rryRt0hTHSK2",
        "outputId": "41c2a620-d185-4eb9-e425-4e9a870f1e71"
      },
      "execution_count": 98,
      "outputs": [
        {
          "output_type": "stream",
          "name": "stdout",
          "text": [
            "Skipping, found downloaded files in \"./consumer-reviews-of-amazon-products\" (use force=True to force download)\n"
          ]
        }
      ]
    },
    {
      "cell_type": "code",
      "source": [
        "amazon_data=pd.read_csv(Path(\"/content/consumer-reviews-of-amazon-products/Datafiniti_Amazon_Consumer_Reviews_of_Amazon_Products.csv\"),encoding='mac_roman')\n",
        "amazon_data.head() "
      ],
      "metadata": {
        "colab": {
          "base_uri": "https://localhost:8080/",
          "height": 646
        },
        "id": "CjvGvTrCInMt",
        "outputId": "42afe174-8fd4-43e2-e537-e33772fd9dfb"
      },
      "execution_count": 99,
      "outputs": [
        {
          "output_type": "execute_result",
          "data": {
            "text/plain": [
              "                  Ôªøid             dateAdded           dateUpdated  \\\n",
              "0  AVqVGZNvQMlgsOJE6eUY  2017-03-03T16:56:05Z  2018-10-25T16:36:31Z   \n",
              "1  AVqVGZNvQMlgsOJE6eUY  2017-03-03T16:56:05Z  2018-10-25T16:36:31Z   \n",
              "2  AVqVGZNvQMlgsOJE6eUY  2017-03-03T16:56:05Z  2018-10-25T16:36:31Z   \n",
              "3  AVqVGZNvQMlgsOJE6eUY  2017-03-03T16:56:05Z  2018-10-25T16:36:31Z   \n",
              "4  AVqVGZNvQMlgsOJE6eUY  2017-03-03T16:56:05Z  2018-10-25T16:36:31Z   \n",
              "\n",
              "                                                name       asins   brand  \\\n",
              "0  Amazon Kindle E-Reader 6\" Wifi (8th Generation...  B00ZV9PXP2  Amazon   \n",
              "1  Amazon Kindle E-Reader 6\" Wifi (8th Generation...  B00ZV9PXP2  Amazon   \n",
              "2  Amazon Kindle E-Reader 6\" Wifi (8th Generation...  B00ZV9PXP2  Amazon   \n",
              "3  Amazon Kindle E-Reader 6\" Wifi (8th Generation...  B00ZV9PXP2  Amazon   \n",
              "4  Amazon Kindle E-Reader 6\" Wifi (8th Generation...  B00ZV9PXP2  Amazon   \n",
              "\n",
              "                                          categories primaryCategories  \\\n",
              "0  Computers,Electronics Features,Tablets,Electro...       Electronics   \n",
              "1  Computers,Electronics Features,Tablets,Electro...       Electronics   \n",
              "2  Computers,Electronics Features,Tablets,Electro...       Electronics   \n",
              "3  Computers,Electronics Features,Tablets,Electro...       Electronics   \n",
              "4  Computers,Electronics Features,Tablets,Electro...       Electronics   \n",
              "\n",
              "                                           imageURLs  \\\n",
              "0  https://pisces.bbystatic.com/image2/BestBuy_US...   \n",
              "1  https://pisces.bbystatic.com/image2/BestBuy_US...   \n",
              "2  https://pisces.bbystatic.com/image2/BestBuy_US...   \n",
              "3  https://pisces.bbystatic.com/image2/BestBuy_US...   \n",
              "4  https://pisces.bbystatic.com/image2/BestBuy_US...   \n",
              "\n",
              "                                                keys  ...  \\\n",
              "0  allnewkindleereaderblack6glarefreetouchscreend...  ...   \n",
              "1  allnewkindleereaderblack6glarefreetouchscreend...  ...   \n",
              "2  allnewkindleereaderblack6glarefreetouchscreend...  ...   \n",
              "3  allnewkindleereaderblack6glarefreetouchscreend...  ...   \n",
              "4  allnewkindleereaderblack6glarefreetouchscreend...  ...   \n",
              "\n",
              "                                    reviews.dateSeen reviews.doRecommend  \\\n",
              "0  2018-05-27T00:00:00Z,2017-09-18T00:00:00Z,2017...               False   \n",
              "1  2018-05-27T00:00:00Z,2017-07-07T00:00:00Z,2017...                True   \n",
              "2                               2018-05-27T00:00:00Z                True   \n",
              "3                               2018-10-09T00:00:00Z                True   \n",
              "4                               2018-05-27T00:00:00Z                True   \n",
              "\n",
              "    reviews.id reviews.numHelpful reviews.rating  \\\n",
              "0          NaN                  0              3   \n",
              "1          NaN                  0              5   \n",
              "2          NaN                  0              4   \n",
              "3  177283626.0                  3              5   \n",
              "4          NaN                  0              5   \n",
              "\n",
              "                                  reviews.sourceURLs  \\\n",
              "0  http://reviews.bestbuy.com/3545/5442403/review...   \n",
              "1  http://reviews.bestbuy.com/3545/5442403/review...   \n",
              "2  https://reviews.bestbuy.com/3545/5442403/revie...   \n",
              "3  https://redsky.target.com/groot-domain-api/v1/...   \n",
              "4  https://reviews.bestbuy.com/3545/5442403/revie...   \n",
              "\n",
              "                                        reviews.text  \\\n",
              "0  I thought it would be as big as small paper bu...   \n",
              "1  This kindle is light and easy to use especiall...   \n",
              "2  Didnt know how much i'd use a kindle so went f...   \n",
              "3  I am 100 happy with my purchase. I caught it o...   \n",
              "4  Solid entry level Kindle. Great for kids. Gift...   \n",
              "\n",
              "                                  reviews.title  reviews.username  \\\n",
              "0                                     Too small            llyyue   \n",
              "1  Great light reader. Easy to use at the beach            Charmi   \n",
              "2                           Great for the price      johnnyjojojo   \n",
              "3                                   A Great Buy           Kdperry   \n",
              "4      Solid entry-level Kindle. Great for kids       Johnnyblack   \n",
              "\n",
              "                                          sourceURLs  \n",
              "0  https://www.newegg.com/Product/Product.aspx%25...  \n",
              "1  https://www.newegg.com/Product/Product.aspx%25...  \n",
              "2  https://www.newegg.com/Product/Product.aspx%25...  \n",
              "3  https://www.newegg.com/Product/Product.aspx%25...  \n",
              "4  https://www.newegg.com/Product/Product.aspx%25...  \n",
              "\n",
              "[5 rows x 24 columns]"
            ],
            "text/html": [
              "\n",
              "  <div id=\"df-b2bd9dac-2167-46ff-b7b1-5dbbf3365f1f\">\n",
              "    <div class=\"colab-df-container\">\n",
              "      <div>\n",
              "<style scoped>\n",
              "    .dataframe tbody tr th:only-of-type {\n",
              "        vertical-align: middle;\n",
              "    }\n",
              "\n",
              "    .dataframe tbody tr th {\n",
              "        vertical-align: top;\n",
              "    }\n",
              "\n",
              "    .dataframe thead th {\n",
              "        text-align: right;\n",
              "    }\n",
              "</style>\n",
              "<table border=\"1\" class=\"dataframe\">\n",
              "  <thead>\n",
              "    <tr style=\"text-align: right;\">\n",
              "      <th></th>\n",
              "      <th>Ôªøid</th>\n",
              "      <th>dateAdded</th>\n",
              "      <th>dateUpdated</th>\n",
              "      <th>name</th>\n",
              "      <th>asins</th>\n",
              "      <th>brand</th>\n",
              "      <th>categories</th>\n",
              "      <th>primaryCategories</th>\n",
              "      <th>imageURLs</th>\n",
              "      <th>keys</th>\n",
              "      <th>...</th>\n",
              "      <th>reviews.dateSeen</th>\n",
              "      <th>reviews.doRecommend</th>\n",
              "      <th>reviews.id</th>\n",
              "      <th>reviews.numHelpful</th>\n",
              "      <th>reviews.rating</th>\n",
              "      <th>reviews.sourceURLs</th>\n",
              "      <th>reviews.text</th>\n",
              "      <th>reviews.title</th>\n",
              "      <th>reviews.username</th>\n",
              "      <th>sourceURLs</th>\n",
              "    </tr>\n",
              "  </thead>\n",
              "  <tbody>\n",
              "    <tr>\n",
              "      <th>0</th>\n",
              "      <td>AVqVGZNvQMlgsOJE6eUY</td>\n",
              "      <td>2017-03-03T16:56:05Z</td>\n",
              "      <td>2018-10-25T16:36:31Z</td>\n",
              "      <td>Amazon Kindle E-Reader 6\" Wifi (8th Generation...</td>\n",
              "      <td>B00ZV9PXP2</td>\n",
              "      <td>Amazon</td>\n",
              "      <td>Computers,Electronics Features,Tablets,Electro...</td>\n",
              "      <td>Electronics</td>\n",
              "      <td>https://pisces.bbystatic.com/image2/BestBuy_US...</td>\n",
              "      <td>allnewkindleereaderblack6glarefreetouchscreend...</td>\n",
              "      <td>...</td>\n",
              "      <td>2018-05-27T00:00:00Z,2017-09-18T00:00:00Z,2017...</td>\n",
              "      <td>False</td>\n",
              "      <td>NaN</td>\n",
              "      <td>0</td>\n",
              "      <td>3</td>\n",
              "      <td>http://reviews.bestbuy.com/3545/5442403/review...</td>\n",
              "      <td>I thought it would be as big as small paper bu...</td>\n",
              "      <td>Too small</td>\n",
              "      <td>llyyue</td>\n",
              "      <td>https://www.newegg.com/Product/Product.aspx%25...</td>\n",
              "    </tr>\n",
              "    <tr>\n",
              "      <th>1</th>\n",
              "      <td>AVqVGZNvQMlgsOJE6eUY</td>\n",
              "      <td>2017-03-03T16:56:05Z</td>\n",
              "      <td>2018-10-25T16:36:31Z</td>\n",
              "      <td>Amazon Kindle E-Reader 6\" Wifi (8th Generation...</td>\n",
              "      <td>B00ZV9PXP2</td>\n",
              "      <td>Amazon</td>\n",
              "      <td>Computers,Electronics Features,Tablets,Electro...</td>\n",
              "      <td>Electronics</td>\n",
              "      <td>https://pisces.bbystatic.com/image2/BestBuy_US...</td>\n",
              "      <td>allnewkindleereaderblack6glarefreetouchscreend...</td>\n",
              "      <td>...</td>\n",
              "      <td>2018-05-27T00:00:00Z,2017-07-07T00:00:00Z,2017...</td>\n",
              "      <td>True</td>\n",
              "      <td>NaN</td>\n",
              "      <td>0</td>\n",
              "      <td>5</td>\n",
              "      <td>http://reviews.bestbuy.com/3545/5442403/review...</td>\n",
              "      <td>This kindle is light and easy to use especiall...</td>\n",
              "      <td>Great light reader. Easy to use at the beach</td>\n",
              "      <td>Charmi</td>\n",
              "      <td>https://www.newegg.com/Product/Product.aspx%25...</td>\n",
              "    </tr>\n",
              "    <tr>\n",
              "      <th>2</th>\n",
              "      <td>AVqVGZNvQMlgsOJE6eUY</td>\n",
              "      <td>2017-03-03T16:56:05Z</td>\n",
              "      <td>2018-10-25T16:36:31Z</td>\n",
              "      <td>Amazon Kindle E-Reader 6\" Wifi (8th Generation...</td>\n",
              "      <td>B00ZV9PXP2</td>\n",
              "      <td>Amazon</td>\n",
              "      <td>Computers,Electronics Features,Tablets,Electro...</td>\n",
              "      <td>Electronics</td>\n",
              "      <td>https://pisces.bbystatic.com/image2/BestBuy_US...</td>\n",
              "      <td>allnewkindleereaderblack6glarefreetouchscreend...</td>\n",
              "      <td>...</td>\n",
              "      <td>2018-05-27T00:00:00Z</td>\n",
              "      <td>True</td>\n",
              "      <td>NaN</td>\n",
              "      <td>0</td>\n",
              "      <td>4</td>\n",
              "      <td>https://reviews.bestbuy.com/3545/5442403/revie...</td>\n",
              "      <td>Didnt know how much i'd use a kindle so went f...</td>\n",
              "      <td>Great for the price</td>\n",
              "      <td>johnnyjojojo</td>\n",
              "      <td>https://www.newegg.com/Product/Product.aspx%25...</td>\n",
              "    </tr>\n",
              "    <tr>\n",
              "      <th>3</th>\n",
              "      <td>AVqVGZNvQMlgsOJE6eUY</td>\n",
              "      <td>2017-03-03T16:56:05Z</td>\n",
              "      <td>2018-10-25T16:36:31Z</td>\n",
              "      <td>Amazon Kindle E-Reader 6\" Wifi (8th Generation...</td>\n",
              "      <td>B00ZV9PXP2</td>\n",
              "      <td>Amazon</td>\n",
              "      <td>Computers,Electronics Features,Tablets,Electro...</td>\n",
              "      <td>Electronics</td>\n",
              "      <td>https://pisces.bbystatic.com/image2/BestBuy_US...</td>\n",
              "      <td>allnewkindleereaderblack6glarefreetouchscreend...</td>\n",
              "      <td>...</td>\n",
              "      <td>2018-10-09T00:00:00Z</td>\n",
              "      <td>True</td>\n",
              "      <td>177283626.0</td>\n",
              "      <td>3</td>\n",
              "      <td>5</td>\n",
              "      <td>https://redsky.target.com/groot-domain-api/v1/...</td>\n",
              "      <td>I am 100 happy with my purchase. I caught it o...</td>\n",
              "      <td>A Great Buy</td>\n",
              "      <td>Kdperry</td>\n",
              "      <td>https://www.newegg.com/Product/Product.aspx%25...</td>\n",
              "    </tr>\n",
              "    <tr>\n",
              "      <th>4</th>\n",
              "      <td>AVqVGZNvQMlgsOJE6eUY</td>\n",
              "      <td>2017-03-03T16:56:05Z</td>\n",
              "      <td>2018-10-25T16:36:31Z</td>\n",
              "      <td>Amazon Kindle E-Reader 6\" Wifi (8th Generation...</td>\n",
              "      <td>B00ZV9PXP2</td>\n",
              "      <td>Amazon</td>\n",
              "      <td>Computers,Electronics Features,Tablets,Electro...</td>\n",
              "      <td>Electronics</td>\n",
              "      <td>https://pisces.bbystatic.com/image2/BestBuy_US...</td>\n",
              "      <td>allnewkindleereaderblack6glarefreetouchscreend...</td>\n",
              "      <td>...</td>\n",
              "      <td>2018-05-27T00:00:00Z</td>\n",
              "      <td>True</td>\n",
              "      <td>NaN</td>\n",
              "      <td>0</td>\n",
              "      <td>5</td>\n",
              "      <td>https://reviews.bestbuy.com/3545/5442403/revie...</td>\n",
              "      <td>Solid entry level Kindle. Great for kids. Gift...</td>\n",
              "      <td>Solid entry-level Kindle. Great for kids</td>\n",
              "      <td>Johnnyblack</td>\n",
              "      <td>https://www.newegg.com/Product/Product.aspx%25...</td>\n",
              "    </tr>\n",
              "  </tbody>\n",
              "</table>\n",
              "<p>5 rows × 24 columns</p>\n",
              "</div>\n",
              "      <button class=\"colab-df-convert\" onclick=\"convertToInteractive('df-b2bd9dac-2167-46ff-b7b1-5dbbf3365f1f')\"\n",
              "              title=\"Convert this dataframe to an interactive table.\"\n",
              "              style=\"display:none;\">\n",
              "        \n",
              "  <svg xmlns=\"http://www.w3.org/2000/svg\" height=\"24px\"viewBox=\"0 0 24 24\"\n",
              "       width=\"24px\">\n",
              "    <path d=\"M0 0h24v24H0V0z\" fill=\"none\"/>\n",
              "    <path d=\"M18.56 5.44l.94 2.06.94-2.06 2.06-.94-2.06-.94-.94-2.06-.94 2.06-2.06.94zm-11 1L8.5 8.5l.94-2.06 2.06-.94-2.06-.94L8.5 2.5l-.94 2.06-2.06.94zm10 10l.94 2.06.94-2.06 2.06-.94-2.06-.94-.94-2.06-.94 2.06-2.06.94z\"/><path d=\"M17.41 7.96l-1.37-1.37c-.4-.4-.92-.59-1.43-.59-.52 0-1.04.2-1.43.59L10.3 9.45l-7.72 7.72c-.78.78-.78 2.05 0 2.83L4 21.41c.39.39.9.59 1.41.59.51 0 1.02-.2 1.41-.59l7.78-7.78 2.81-2.81c.8-.78.8-2.07 0-2.86zM5.41 20L4 18.59l7.72-7.72 1.47 1.35L5.41 20z\"/>\n",
              "  </svg>\n",
              "      </button>\n",
              "      \n",
              "  <style>\n",
              "    .colab-df-container {\n",
              "      display:flex;\n",
              "      flex-wrap:wrap;\n",
              "      gap: 12px;\n",
              "    }\n",
              "\n",
              "    .colab-df-convert {\n",
              "      background-color: #E8F0FE;\n",
              "      border: none;\n",
              "      border-radius: 50%;\n",
              "      cursor: pointer;\n",
              "      display: none;\n",
              "      fill: #1967D2;\n",
              "      height: 32px;\n",
              "      padding: 0 0 0 0;\n",
              "      width: 32px;\n",
              "    }\n",
              "\n",
              "    .colab-df-convert:hover {\n",
              "      background-color: #E2EBFA;\n",
              "      box-shadow: 0px 1px 2px rgba(60, 64, 67, 0.3), 0px 1px 3px 1px rgba(60, 64, 67, 0.15);\n",
              "      fill: #174EA6;\n",
              "    }\n",
              "\n",
              "    [theme=dark] .colab-df-convert {\n",
              "      background-color: #3B4455;\n",
              "      fill: #D2E3FC;\n",
              "    }\n",
              "\n",
              "    [theme=dark] .colab-df-convert:hover {\n",
              "      background-color: #434B5C;\n",
              "      box-shadow: 0px 1px 3px 1px rgba(0, 0, 0, 0.15);\n",
              "      filter: drop-shadow(0px 1px 2px rgba(0, 0, 0, 0.3));\n",
              "      fill: #FFFFFF;\n",
              "    }\n",
              "  </style>\n",
              "\n",
              "      <script>\n",
              "        const buttonEl =\n",
              "          document.querySelector('#df-b2bd9dac-2167-46ff-b7b1-5dbbf3365f1f button.colab-df-convert');\n",
              "        buttonEl.style.display =\n",
              "          google.colab.kernel.accessAllowed ? 'block' : 'none';\n",
              "\n",
              "        async function convertToInteractive(key) {\n",
              "          const element = document.querySelector('#df-b2bd9dac-2167-46ff-b7b1-5dbbf3365f1f');\n",
              "          const dataTable =\n",
              "            await google.colab.kernel.invokeFunction('convertToInteractive',\n",
              "                                                     [key], {});\n",
              "          if (!dataTable) return;\n",
              "\n",
              "          const docLinkHtml = 'Like what you see? Visit the ' +\n",
              "            '<a target=\"_blank\" href=https://colab.research.google.com/notebooks/data_table.ipynb>data table notebook</a>'\n",
              "            + ' to learn more about interactive tables.';\n",
              "          element.innerHTML = '';\n",
              "          dataTable['output_type'] = 'display_data';\n",
              "          await google.colab.output.renderOutput(dataTable, element);\n",
              "          const docLink = document.createElement('div');\n",
              "          docLink.innerHTML = docLinkHtml;\n",
              "          element.appendChild(docLink);\n",
              "        }\n",
              "      </script>\n",
              "    </div>\n",
              "  </div>\n",
              "  "
            ]
          },
          "metadata": {},
          "execution_count": 99
        }
      ]
    },
    {
      "cell_type": "code",
      "source": [
        "#quick EDA\n",
        "amazon_data[\"primaryCategories\"].nunique()\n",
        "temp=pd.factorize(amazon_data.primaryCategories)[0] + 1\n",
        "cats_plot=pd.DataFrame(temp).value_counts().plot(kind='bar')\n",
        "amazon_data[\"primaryCategories\"].unique()\n"
      ],
      "metadata": {
        "colab": {
          "base_uri": "https://localhost:8080/",
          "height": 322
        },
        "id": "-hRqEJ0dJLqm",
        "outputId": "4b921643-0d98-42ab-9ab4-95110afe506b"
      },
      "execution_count": 100,
      "outputs": [
        {
          "output_type": "execute_result",
          "data": {
            "text/plain": [
              "array(['Electronics', 'Electronics,Hardware',\n",
              "       'Office Supplies,Electronics', 'Electronics,Media'], dtype=object)"
            ]
          },
          "metadata": {},
          "execution_count": 100
        },
        {
          "output_type": "display_data",
          "data": {
            "text/plain": [
              "<Figure size 432x288 with 1 Axes>"
            ],
            "image/png": "[encoded data removed]"
          },
          "metadata": {
            "needs_background": "light"
          }
        }
      ]
    },
    {
      "cell_type": "code",
      "source": [
        "raw_free_text=amazon_data[\"categories\"].astype(str)\n",
        "print(type(raw_free_text[1]))\n",
        "category_labels=amazon_data[\"primaryCategories\"]\n",
        "#df = pd.Categorical(category_labels)\n",
        "#category_labels = df.codes\n",
        "category_labels = category_labels.astype('category').cat.codes\n",
        "\n",
        "#check for null values\n",
        "print(raw_free_text.isnull().values.any())\n",
        "#print(category_labels.isnull().values.any())\n",
        "\n",
        "from sklearn.model_selection import train_test_split\n",
        "# split into training and test sets\n",
        "free_text_train, free_text_test, category_train, category_test = train_test_split(raw_free_text, category_labels, test_size=0.2, random_state=1000)\n",
        "# split training set into training and validation sets\n",
        "free_text_train, free_text_val, category_train, category_val = train_test_split(free_text_train, category_train, test_size=0.1, random_state=1000)"
      ],
      "metadata": {
        "colab": {
          "base_uri": "https://localhost:8080/"
        },
        "id": "cJpGZomrLPLD",
        "outputId": "25fb644b-648d-404a-afbf-2f986151713d"
      },
      "execution_count": 101,
      "outputs": [
        {
          "output_type": "stream",
          "name": "stdout",
          "text": [
            "<class 'str'>\n",
            "False\n"
          ]
        }
      ]
    },
    {
      "cell_type": "code",
      "source": [
        "raw_train_ds=tf.data.Dataset.from_tensor_slices((free_text_train, category_train)).batch(32)\n",
        "raw_val_ds=tf.data.Dataset.from_tensor_slices((free_text_val, category_val)).batch(32)\n",
        "raw_test_ds=tf.data.Dataset.from_tensor_slices((free_text_test, category_test)).batch(32)\n",
        "\n",
        "tf.print(raw_train_ds)"
      ],
      "metadata": {
        "colab": {
          "base_uri": "https://localhost:8080/"
        },
        "id": "HuWdjOd4ebCC",
        "outputId": "0d2127ad-b020-42fd-95a5-2dd425e57524"
      },
      "execution_count": 102,
      "outputs": [
        {
          "output_type": "stream",
          "name": "stdout",
          "text": [
            "<BatchDataset element_spec=(TensorSpec(shape=(None,), dtype=tf.string, name=None), TensorSpec(shape=(None,), dtype=tf.int8, name=None))>\n"
          ]
        }
      ]
    },
    {
      "cell_type": "code",
      "source": [
        "# view train dataset\n",
        "for text_batch, label_batch in raw_train_ds.take(1):\n",
        "    for i in range(3):\n",
        "        print(f\"Review: {text_batch.numpy()[i]}\")\n",
        "        print(f\"Label: {label_batch.numpy()[i]}\")\n",
        "        print()\n",
        " # .numpy() converts tensor object into numpy.ndarray object. Implicitly means converted tensor will be now processed on the CPU."
      ],
      "metadata": {
        "colab": {
          "base_uri": "https://localhost:8080/"
        },
        "id": "WAde0BIl-L41",
        "outputId": "b8628c38-61a9-4270-bbd5-2eb26984fcaf"
      },
      "execution_count": 103,
      "outputs": [
        {
          "output_type": "stream",
          "name": "stdout",
          "text": [
            "Review: b'Computers,Amazon Echo,Virtual Assistant Speakers,Audio & Video Components,Electronics Features,Computer Accessories,Home & Tools,See more Amazon Echo Show Smart Assistant - White,Smart Home Automation,Electronics,TVs Entertainment,Speakers,Smart Hub & Kits,Digital Device 3,Consumer Electronics,Wireless Speakers,Home Improvement,Amazon Home,Amazon,Computer Speakers,Voice-Enabled Smart Assistants'\n",
            "Label: 1\n",
            "\n",
            "Review: b'Computers/Tablets & Networking,Tablets & eBook Readers,Computers & Tablets,Tablets,All Tablets'\n",
            "Label: 0\n",
            "\n",
            "Review: b'Computers,Amazon Echo,Virtual Assistant Speakers,Audio & Video Components,Electronics Features,Computer Accessories,Home & Tools,See more Amazon Echo Show Smart Assistant - White,Smart Home Automation,Electronics,TVs Entertainment,Speakers,Smart Hub & Kits,Digital Device 3,Consumer Electronics,Wireless Speakers,Home Improvement,Amazon Home,Amazon,Computer Speakers,Voice-Enabled Smart Assistants'\n",
            "Label: 1\n",
            "\n"
          ]
        }
      ]
    },
    {
      "cell_type": "markdown",
      "source": [
        "# Prepare dataset for training"
      ],
      "metadata": {
        "id": "0wM9rLntAfk-"
      }
    },
    {
      "cell_type": "code",
      "source": [
        "# remove HTML tag\n",
        "#reviews contain various HTML tags like <br />. These tags will not be removed by the default standardizer in the TextVectorization layer\n",
        "#(which converts text to lowercase and strips punctuation by default, but doesn’t strip HTML). \n",
        "import re\n",
        "import string\n",
        "def custom_standardization(input_data):\n",
        "    lowercase = tf.strings.lower(input_data) #convert all strings to lowercase\n",
        "    stripped_html = tf.strings.regex_replace(lowercase, '<br />', ' ')\n",
        "    \n",
        "    return tf.strings.regex_replace(stripped_html,\n",
        "                                  '[%s]' % re.escape(string.punctuation), #string.punctation is a list of punctuation characters\n",
        "                                  '') #strips punctation"
      ],
      "metadata": {
        "id": "LSAWx0HaAiMF"
      },
      "execution_count": 104,
      "outputs": []
    },
    {
      "cell_type": "code",
      "source": [
        "#standardise tokens and vectorise data\n",
        "from tensorflow.keras.layers.experimental.preprocessing import TextVectorization #A preprocessing layer which maps text features to integer sequences.\n",
        "\n",
        "max_features = 10000 \n",
        "sequence_length = 250\n",
        "vectorize_layer = TextVectorization(\n",
        "    standardize=custom_standardization,\n",
        "    max_tokens=max_features, #Maximum size of the vocabulary for this layer. This should only be specified when adapting a vocabulary or when setting pad_to_max_tokens=True \n",
        "    output_mode='int', #create unique integer indices for each token\n",
        "    output_sequence_length=sequence_length) #Output will have its time dimension padded or truncated to exactly output_sequence_length values, resulting in a tensor of shape (batch_size, output_sequence_length) regardless of how many tokens resulted from the splitting step. Defaults to None."
      ],
      "metadata": {
        "id": "4Meqqjb6Htne"
      },
      "execution_count": 105,
      "outputs": []
    },
    {
      "cell_type": "markdown",
      "source": [
        "**TextVectorization**\n",
        "Transforms a batch of strings (one example = one string) into either a list of token indices (one example = 1D tensor of integer token indices) or a dense representation (one example = 1D tensor of float values representing data about the example's tokens). This layer is meant to handle natural language inputs. \n",
        "\n",
        "The vocabulary for the layer must be either supplied on construction or learned via adapt(). When this layer is adapted, it will analyze the dataset, determine the frequency of individual string values, and create a vocabulary from them. This vocabulary can have unlimited size or be capped, depending on the configuration options for this layer; if there are more unique values in the input than the maximum vocabulary size, the most frequent terms will be used to create the vocabulary.\n",
        "\n",
        "The processing of each example contains the following steps:\n",
        "\n",
        "* Standardize each example (usually lowercasing + punctuation stripping)\n",
        "* Split each example into substrings (usually words)\n",
        "* Recombine substrings into tokens (usually ngrams)\n",
        "* Index tokens (associate a unique int value with each token)\n",
        "* Transform each example using this index, either into a vector of ints or a dense float vector."
      ],
      "metadata": {
        "id": "KwNrE4ztKJeR"
      }
    },
    {
      "cell_type": "code",
      "source": [
        "#Call adapt to fit the state of the preprocessing layer to the dataset. This will cause the model to build an index of strings to integers.\n",
        "train_text = raw_train_ds.map(lambda x, y: x) #map(func, seq)  applies the function func to all the elements of the sequence seq\n",
        "#lamda function extracts just text? (i.e not label)\n",
        "vectorize_layer.adapt(train_text) #causes the layer to learn a vocabulary of the most frequent terms in all documents, capped at a max of 10000"
      ],
      "metadata": {
        "id": "YFMWcNBOLwG0"
      },
      "execution_count": 106,
      "outputs": []
    },
    {
      "cell_type": "code",
      "source": [
        "#function to preprocess data\n",
        "def vectorize_text(text, label):\n",
        "    text = tf.expand_dims(text, -1) #Remove dimension from vector\n",
        "    return vectorize_layer(text), label"
      ],
      "metadata": {
        "id": "bON1Gp1lRJxX"
      },
      "execution_count": 107,
      "outputs": []
    },
    {
      "cell_type": "code",
      "source": [
        "#Retrieve a batch of 32 reviews and labels from the dataset\n",
        "\n",
        "text_batch, label_batch = next(iter(raw_train_ds)) #return iterator\n",
        "first_review, first_label = text_batch[0], label_batch[0] #first element of iterator\n",
        "print(\"Review\", first_review)\n",
        "print(\"Label\", first_label)\n",
        "print(\"Vectorized review\", vectorize_text(first_review, first_label))\n",
        "#each token replace by integer then notice zero padding at end"
      ],
      "metadata": {
        "id": "tKs_NH_sZKVX",
        "colab": {
          "base_uri": "https://localhost:8080/"
        },
        "outputId": "28d03bec-ab05-4de9-95aa-74f5487fd134"
      },
      "execution_count": 108,
      "outputs": [
        {
          "output_type": "stream",
          "name": "stdout",
          "text": [
            "Review tf.Tensor(b'Computers,Amazon Echo,Virtual Assistant Speakers,Audio & Video Components,Electronics Features,Computer Accessories,Home & Tools,See more Amazon Echo Show Smart Assistant - White,Smart Home Automation,Electronics,TVs Entertainment,Speakers,Smart Hub & Kits,Digital Device 3,Consumer Electronics,Wireless Speakers,Home Improvement,Amazon Home,Amazon,Computer Speakers,Voice-Enabled Smart Assistants', shape=(), dtype=string)\n",
            "Label tf.Tensor(1, shape=(), dtype=int8)\n",
            "Vectorized review (<tf.Tensor: shape=(1, 250), dtype=int64, numpy=\n",
            "array([[41, 20,  6, 35, 31, 42, 10, 16, 33, 23,  4, 40, 36,  9,  6, 32,\n",
            "         3, 43, 19,  8,  7,  5, 45, 39, 18, 37, 38, 34,  9, 44,  0,  0,\n",
            "         0,  0,  0,  0,  0,  0,  0,  0,  0,  0,  0,  0,  0,  0,  0,  0,\n",
            "         0,  0,  0,  0,  0,  0,  0,  0,  0,  0,  0,  0,  0,  0,  0,  0,\n",
            "         0,  0,  0,  0,  0,  0,  0,  0,  0,  0,  0,  0,  0,  0,  0,  0,\n",
            "         0,  0,  0,  0,  0,  0,  0,  0,  0,  0,  0,  0,  0,  0,  0,  0,\n",
            "         0,  0,  0,  0,  0,  0,  0,  0,  0,  0,  0,  0,  0,  0,  0,  0,\n",
            "         0,  0,  0,  0,  0,  0,  0,  0,  0,  0,  0,  0,  0,  0,  0,  0,\n",
            "         0,  0,  0,  0,  0,  0,  0,  0,  0,  0,  0,  0,  0,  0,  0,  0,\n",
            "         0,  0,  0,  0,  0,  0,  0,  0,  0,  0,  0,  0,  0,  0,  0,  0,\n",
            "         0,  0,  0,  0,  0,  0,  0,  0,  0,  0,  0,  0,  0,  0,  0,  0,\n",
            "         0,  0,  0,  0,  0,  0,  0,  0,  0,  0,  0,  0,  0,  0,  0,  0,\n",
            "         0,  0,  0,  0,  0,  0,  0,  0,  0,  0,  0,  0,  0,  0,  0,  0,\n",
            "         0,  0,  0,  0,  0,  0,  0,  0,  0,  0,  0,  0,  0,  0,  0,  0,\n",
            "         0,  0,  0,  0,  0,  0,  0,  0,  0,  0,  0,  0,  0,  0,  0,  0,\n",
            "         0,  0,  0,  0,  0,  0,  0,  0,  0,  0]])>, <tf.Tensor: shape=(), dtype=int8, numpy=1>)\n"
          ]
        }
      ]
    },
    {
      "cell_type": "code",
      "source": [
        "#see the token (string) that each integer corresponds to by calling .get_vocabulary() on the layer\n",
        "print(\"12 ---> \",vectorize_layer.get_vocabulary()[12])\n",
        "print(\" 31 ---> \",vectorize_layer.get_vocabulary()[31])\n",
        "print('Vocabulary size: {}'.format(len(vectorize_layer.get_vocabulary())))"
      ],
      "metadata": {
        "colab": {
          "base_uri": "https://localhost:8080/"
        },
        "id": "_rgNa9E6cMR4",
        "outputId": "e5d19d5b-9591-4f80-8cb4-434e8c0617cc"
      },
      "execution_count": 109,
      "outputs": [
        {
          "output_type": "stream",
          "name": "stdout",
          "text": [
            "12 --->  ebook\n",
            " 31 --->  video\n",
            "Vocabulary size: 234\n"
          ]
        }
      ]
    },
    {
      "cell_type": "code",
      "source": [
        "#Apply the TextVectorization layer to the train, validation, and test dataset\n",
        "train_ds = raw_train_ds.map(vectorize_text)\n",
        "val_ds = raw_val_ds.map(vectorize_text)\n",
        "test_ds = raw_test_ds.map(vectorize_text)\n",
        "\n",
        "#Retrieve a batch of 32 reviews and labels from the dataset\n",
        "\n",
        "text_batch, label_batch = next(iter(train_ds)) #return iterator\n",
        "first_review, first_label = text_batch[0], label_batch[0] #first element of iterator\n",
        "print(\"Review\", first_review)\n",
        "print(\"Label\", first_label)\n",
        "#each token replace by integer then notice zero padding at end"
      ],
      "metadata": {
        "id": "YbeQDkN39Jo1",
        "colab": {
          "base_uri": "https://localhost:8080/"
        },
        "outputId": "97857036-f18f-4a0e-9e36-b619210e5c4b"
      },
      "execution_count": 110,
      "outputs": [
        {
          "output_type": "stream",
          "name": "stdout",
          "text": [
            "Review tf.Tensor(\n",
            "[41 20  6 35 31 42 10 16 33 23  4 40 36  9  6 32  3 43 19  8  7  5 45 39\n",
            " 18 37 38 34  9 44  0  0  0  0  0  0  0  0  0  0  0  0  0  0  0  0  0  0\n",
            "  0  0  0  0  0  0  0  0  0  0  0  0  0  0  0  0  0  0  0  0  0  0  0  0\n",
            "  0  0  0  0  0  0  0  0  0  0  0  0  0  0  0  0  0  0  0  0  0  0  0  0\n",
            "  0  0  0  0  0  0  0  0  0  0  0  0  0  0  0  0  0  0  0  0  0  0  0  0\n",
            "  0  0  0  0  0  0  0  0  0  0  0  0  0  0  0  0  0  0  0  0  0  0  0  0\n",
            "  0  0  0  0  0  0  0  0  0  0  0  0  0  0  0  0  0  0  0  0  0  0  0  0\n",
            "  0  0  0  0  0  0  0  0  0  0  0  0  0  0  0  0  0  0  0  0  0  0  0  0\n",
            "  0  0  0  0  0  0  0  0  0  0  0  0  0  0  0  0  0  0  0  0  0  0  0  0\n",
            "  0  0  0  0  0  0  0  0  0  0  0  0  0  0  0  0  0  0  0  0  0  0  0  0\n",
            "  0  0  0  0  0  0  0  0  0  0], shape=(250,), dtype=int64)\n",
            "Label tf.Tensor(1, shape=(), dtype=int8)\n"
          ]
        }
      ]
    },
    {
      "cell_type": "markdown",
      "source": [
        "## Configure the dataset for performance\n",
        "When loading data to make sure that I/O does not become blocking.\n",
        "\n",
        ".cache() keeps data in memory after it’s loaded off disk. This will ensure the dataset does not become a bottleneck while training your model. If your dataset is too large to fit into memory, you can also use this method to create a performant on-disk cache, which is more efficient to read than many small files.\n",
        "\n",
        ".prefetch() overlaps data preprocessing and model execution while training."
      ],
      "metadata": {
        "id": "7qN4-N2h9V91"
      }
    },
    {
      "cell_type": "code",
      "source": [
        "AUTOTUNE = tf.data.experimental.AUTOTUNE\n",
        "train_ds = train_ds.cache().prefetch(buffer_size=AUTOTUNE)\n",
        "val_ds = val_ds.cache().prefetch(buffer_size=AUTOTUNE)\n",
        "test_ds = test_ds.cache().prefetch(buffer_size=AUTOTUNE)"
      ],
      "metadata": {
        "id": "LJeo3pzF9Y12"
      },
      "execution_count": 111,
      "outputs": []
    },
    {
      "cell_type": "markdown",
      "source": [
        "# Create a model"
      ],
      "metadata": {
        "id": "POwEpRBF9bz9"
      }
    },
    {
      "cell_type": "code",
      "source": [
        "from tensorflow.keras import layers\n",
        "embedding_dim = 16\n",
        "model = tf.keras.Sequential([\n",
        "  layers.Embedding(max_features + 1, embedding_dim),\n",
        "  layers.Dropout(0.2),\n",
        "  layers.GlobalAveragePooling1D(),\n",
        "  layers.Dropout(0.2),\n",
        "  layers.Dense(1)])\n",
        "model\n",
        "model.summary()"
      ],
      "metadata": {
        "id": "Dyb0bwuW9dvq",
        "colab": {
          "base_uri": "https://localhost:8080/"
        },
        "outputId": "508ef475-d4d5-410b-a5d1-6b2b2985a4b0"
      },
      "execution_count": 112,
      "outputs": [
        {
          "output_type": "stream",
          "name": "stdout",
          "text": [
            "Model: \"sequential_5\"\n",
            "_________________________________________________________________\n",
            " Layer (type)                Output Shape              Param #   \n",
            "=================================================================\n",
            " embedding_5 (Embedding)     (None, None, 16)          160016    \n",
            "                                                                 \n",
            " dropout_10 (Dropout)        (None, None, 16)          0         \n",
            "                                                                 \n",
            " global_average_pooling1d_5   (None, 16)               0         \n",
            " (GlobalAveragePooling1D)                                        \n",
            "                                                                 \n",
            " dropout_11 (Dropout)        (None, 16)                0         \n",
            "                                                                 \n",
            " dense_5 (Dense)             (None, 1)                 17        \n",
            "                                                                 \n",
            "=================================================================\n",
            "Total params: 160,033\n",
            "Trainable params: 160,033\n",
            "Non-trainable params: 0\n",
            "_________________________________________________________________\n"
          ]
        }
      ]
    },
    {
      "cell_type": "code",
      "source": [
        "# compile the model\n",
        "from tensorflow.keras import losses\n",
        "model.compile(optimizer='adam',loss='categorical_crossentropy',metrics=['accuracy'])"
      ],
      "metadata": {
        "id": "LDzkeYE69k6e"
      },
      "execution_count": 113,
      "outputs": []
    },
    {
      "cell_type": "code",
      "source": [
        "# train model\n",
        "epochs = 10\n",
        "history = model.fit(\n",
        "    train_ds,\n",
        "    validation_data=val_ds,\n",
        "    epochs=epochs)"
      ],
      "metadata": {
        "colab": {
          "base_uri": "https://localhost:8080/"
        },
        "id": "pP31frq09oQn",
        "outputId": "b716c6ad-39d4-4943-a541-efc8f59e2a35"
      },
      "execution_count": 114,
      "outputs": [
        {
          "output_type": "stream",
          "name": "stdout",
          "text": [
            "Epoch 1/10\n",
            "113/113 [==============================] - 1s 7ms/step - loss: 5.3843e-08 - accuracy: 0.6586 - val_loss: 5.2154e-08 - val_accuracy: 0.6675\n",
            "Epoch 2/10\n",
            "113/113 [==============================] - 1s 6ms/step - loss: 5.3843e-08 - accuracy: 0.6586 - val_loss: 5.2154e-08 - val_accuracy: 0.6675\n",
            "Epoch 3/10\n",
            "113/113 [==============================] - 1s 6ms/step - loss: 5.3843e-08 - accuracy: 0.6586 - val_loss: 5.2154e-08 - val_accuracy: 0.6675\n",
            "Epoch 4/10\n",
            "113/113 [==============================] - 1s 13ms/step - loss: 5.3843e-08 - accuracy: 0.6586 - val_loss: 5.2154e-08 - val_accuracy: 0.6675\n",
            "Epoch 5/10\n",
            "113/113 [==============================] - 2s 13ms/step - loss: 5.3843e-08 - accuracy: 0.6586 - val_loss: 5.2154e-08 - val_accuracy: 0.6675\n",
            "Epoch 6/10\n",
            "113/113 [==============================] - 2s 14ms/step - loss: 5.3843e-08 - accuracy: 0.6586 - val_loss: 5.2154e-08 - val_accuracy: 0.6675\n",
            "Epoch 7/10\n",
            "113/113 [==============================] - 1s 12ms/step - loss: 5.3843e-08 - accuracy: 0.6586 - val_loss: 5.2154e-08 - val_accuracy: 0.6675\n",
            "Epoch 8/10\n",
            "113/113 [==============================] - 2s 15ms/step - loss: 5.3843e-08 - accuracy: 0.6586 - val_loss: 5.2154e-08 - val_accuracy: 0.6675\n",
            "Epoch 9/10\n",
            "113/113 [==============================] - 1s 7ms/step - loss: 5.3843e-08 - accuracy: 0.6586 - val_loss: 5.2154e-08 - val_accuracy: 0.6675\n",
            "Epoch 10/10\n",
            "113/113 [==============================] - 1s 6ms/step - loss: 5.3843e-08 - accuracy: 0.6586 - val_loss: 5.2154e-08 - val_accuracy: 0.6675\n"
          ]
        }
      ]
    },
    {
      "cell_type": "code",
      "source": [
        "loss, accuracy = model.evaluate(test_ds)\n",
        "print(\"Loss: \", loss)\n",
        "print(\"Accuracy: \", accuracy)\n"
      ],
      "metadata": {
        "colab": {
          "base_uri": "https://localhost:8080/"
        },
        "id": "Ly7HKfv8oztj",
        "outputId": "bff295a1-ebe4-47f1-c748-2c011ca16f8b"
      },
      "execution_count": 115,
      "outputs": [
        {
          "output_type": "stream",
          "name": "stdout",
          "text": [
            "32/32 [==============================] - 0s 2ms/step - loss: 5.6863e-08 - accuracy: 0.6380\n",
            "Loss:  5.686283444106266e-08\n",
            "Accuracy:  0.6380000114440918\n"
          ]
        }
      ]
    }
  ]
}